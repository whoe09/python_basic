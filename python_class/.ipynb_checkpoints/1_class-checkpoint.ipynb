{
 "cells": [
  {
   "cell_type": "code",
   "execution_count": 7,
   "id": "f9e6e4e6-e520-4f7a-b434-f161d46f2457",
   "metadata": {},
   "outputs": [
    {
     "name": "stdout",
     "output_type": "stream",
     "text": [
      "Hello World\n"
     ]
    }
   ],
   "source": [
    "print(\"Hello World\")"
   ]
  },
  {
   "cell_type": "code",
   "execution_count": 4,
   "id": "b151b050-447e-4395-b7ef-4356967a20a1",
   "metadata": {},
   "outputs": [
    {
     "data": {
      "text/plain": [
       "8"
      ]
     },
     "execution_count": 4,
     "metadata": {},
     "output_type": "execute_result"
    }
   ],
   "source": [
    "5+3"
   ]
  },
  {
   "cell_type": "code",
   "execution_count": null,
   "id": "5ca29e54-da3c-4ac2-9380-8fcddf3b9b1a",
   "metadata": {},
   "outputs": [],
   "source": []
  },
  {
   "cell_type": "code",
   "execution_count": null,
   "id": "3a766514-cff9-43e0-8111-f7de48487758",
   "metadata": {},
   "outputs": [],
   "source": []
  },
  {
   "cell_type": "code",
   "execution_count": 5,
   "id": "4e385759-10b1-4e1c-b12c-c2726934f78f",
   "metadata": {},
   "outputs": [
    {
     "data": {
      "text/plain": [
       "1.6666666666666667"
      ]
     },
     "execution_count": 5,
     "metadata": {},
     "output_type": "execute_result"
    }
   ],
   "source": [
    "5/3"
   ]
  },
  {
   "cell_type": "markdown",
   "id": "73c3af1f-6584-4c27-b6d2-00d3d9f368a7",
   "metadata": {},
   "source": [
    "안녕하세요"
   ]
  },
  {
   "attachments": {},
   "cell_type": "markdown",
   "id": "a2d11566-3550-4c74-a152-686ef46ea62d",
   "metadata": {},
   "source": [
    "# Python 수업\n",
    "\n",
    "## 셀에 대해서 배워봅니다.\n",
    "\n",
    "나누는것은 Shift+ctrl+'-'\n",
    "합치는것은 "
   ]
  },
  {
   "cell_type": "code",
   "execution_count": 10,
   "id": "e8152d6b-782c-4f5d-8fe1-76b0ef84aa8a",
   "metadata": {},
   "outputs": [
    {
     "name": "stdout",
     "output_type": "stream",
     "text": [
      "주석 설정\n"
     ]
    }
   ],
   "source": [
    "# 주석을 설정합니다.\n",
    "print(\"주석 설정\")"
   ]
  },
  {
   "cell_type": "code",
   "execution_count": 11,
   "id": "1c89c17a-a50d-4d8e-9079-2ef40deddf08",
   "metadata": {},
   "outputs": [
    {
     "data": {
      "text/plain": [
       "<function dir>"
      ]
     },
     "execution_count": 11,
     "metadata": {},
     "output_type": "execute_result"
    }
   ],
   "source": [
    "dir"
   ]
  },
  {
   "cell_type": "code",
   "execution_count": 12,
   "id": "c4a22c3c-b3f6-4ad9-9ebc-657b9aca83eb",
   "metadata": {},
   "outputs": [
    {
     "name": "stdout",
     "output_type": "stream",
     "text": [
      " E 드라이브의 볼륨: 새 볼륨\n",
      " 볼륨 일련 번호: 06F4-1380\n",
      "\n",
      " E:\\workspaceGit\\python\\python_class 디렉터리\n",
      "\n",
      "2025-02-16  오후 09:25    <DIR>          .\n",
      "2025-02-16  오후 08:29    <DIR>          ..\n",
      "2021-01-22  오후 04:22             6,148 .DS_Store\n",
      "2025-02-16  오후 09:05    <DIR>          .ipynb_checkpoints\n",
      "2025-02-16  오후 09:06    <DIR>          .virtual_documents\n",
      "2021-01-22  오후 04:19            80,882 lec0_Python_basic_online_class.ipynb\n",
      "2025-02-16  오후 08:59    <DIR>          python_module_test\n",
      "2025-02-16  오후 09:25             2,741 Untitled.ipynb\n",
      "               3개 파일              89,771 바이트\n",
      "               5개 디렉터리  145,763,241,984 바이트 남음\n"
     ]
    }
   ],
   "source": [
    "ls"
   ]
  },
  {
   "cell_type": "code",
   "execution_count": 13,
   "id": "f2b6ae57-cd06-488e-94d8-95c22acfec5e",
   "metadata": {},
   "outputs": [
    {
     "ename": "NameError",
     "evalue": "name 'll' is not defined",
     "output_type": "error",
     "traceback": [
      "\u001b[1;31m---------------------------------------------------------------------------\u001b[0m",
      "\u001b[1;31mNameError\u001b[0m                                 Traceback (most recent call last)",
      "Cell \u001b[1;32mIn[13], line 1\u001b[0m\n\u001b[1;32m----> 1\u001b[0m ll\n",
      "\u001b[1;31mNameError\u001b[0m: name 'll' is not defined"
     ]
    }
   ],
   "source": [
    "ll"
   ]
  },
  {
   "cell_type": "code",
   "execution_count": 14,
   "id": "a498020c-a67a-4913-b2d9-9620f1112bf7",
   "metadata": {},
   "outputs": [
    {
     "name": "stdout",
     "output_type": "stream",
     "text": [
      " E 드라이브의 볼륨: 새 볼륨\n",
      " 볼륨 일련 번호: 06F4-1380\n",
      "\n",
      " E:\\workspaceGit\\python\\python_class 디렉터리\n",
      "\n",
      "2025-02-16  오후 09:25    <DIR>          .\n",
      "2025-02-16  오후 08:29    <DIR>          ..\n",
      "2021-01-22  오후 04:22             6,148 .DS_Store\n",
      "2025-02-16  오후 09:05    <DIR>          .ipynb_checkpoints\n",
      "2025-02-16  오후 09:06    <DIR>          .virtual_documents\n",
      "2021-01-22  오후 04:19            80,882 lec0_Python_basic_online_class.ipynb\n",
      "2025-02-16  오후 08:59    <DIR>          python_module_test\n",
      "2025-02-16  오후 09:25             2,741 Untitled.ipynb\n",
      "               3개 파일              89,771 바이트\n",
      "               5개 디렉터리  145,763,241,984 바이트 남음\n"
     ]
    }
   ],
   "source": [
    "ls"
   ]
  },
  {
   "cell_type": "code",
   "execution_count": 15,
   "id": "5bc587e3-e371-43bf-93ae-5d75ff1ae976",
   "metadata": {},
   "outputs": [
    {
     "name": "stdout",
     "output_type": "stream",
     "text": [
      "\f",
      "\n"
     ]
    }
   ],
   "source": [
    "clear"
   ]
  },
  {
   "cell_type": "code",
   "execution_count": 16,
   "id": "119655fc-2f5c-4989-812a-bd5dc7c968ec",
   "metadata": {},
   "outputs": [
    {
     "name": "stdout",
     "output_type": "stream",
     "text": [
      " E 드라이브의 볼륨: 새 볼륨\n",
      " 볼륨 일련 번호: 06F4-1380\n",
      "\n",
      " E:\\workspaceGit\\python\\python_class 디렉터리\n",
      "\n",
      "2025-02-16  오후 09:25    <DIR>          .\n",
      "2025-02-16  오후 08:29    <DIR>          ..\n",
      "2021-01-22  오후 04:22             6,148 .DS_Store\n",
      "2025-02-16  오후 09:05    <DIR>          .ipynb_checkpoints\n",
      "2025-02-16  오후 09:06    <DIR>          .virtual_documents\n",
      "2021-01-22  오후 04:19            80,882 lec0_Python_basic_online_class.ipynb\n",
      "2025-02-16  오후 08:59    <DIR>          python_module_test\n",
      "2025-02-16  오후 09:25             2,741 Untitled.ipynb\n",
      "               3개 파일              89,771 바이트\n",
      "               5개 디렉터리  145,763,241,984 바이트 남음\n"
     ]
    }
   ],
   "source": [
    "ls"
   ]
  },
  {
   "cell_type": "code",
   "execution_count": 17,
   "id": "db15d4c8-a435-485c-9f52-8a9ac45511a7",
   "metadata": {},
   "outputs": [
    {
     "data": {
      "text/plain": [
       "'E:\\\\workspaceGit\\\\python\\\\python_class'"
      ]
     },
     "execution_count": 17,
     "metadata": {},
     "output_type": "execute_result"
    }
   ],
   "source": [
    "pwd"
   ]
  },
  {
   "cell_type": "code",
   "execution_count": 18,
   "id": "fed19f4f-6e56-4ef1-b01a-beecc6eabd6e",
   "metadata": {},
   "outputs": [
    {
     "data": {
      "text/plain": [
       "<function print(*args, sep=' ', end='\\n', file=None, flush=False)>"
      ]
     },
     "execution_count": 18,
     "metadata": {},
     "output_type": "execute_result"
    }
   ],
   "source": [
    "print"
   ]
  },
  {
   "cell_type": "code",
   "execution_count": null,
   "id": "1be2ffe0-3da9-442a-8fa4-85be2307510e",
   "metadata": {},
   "outputs": [],
   "source": []
  }
 ],
 "metadata": {
  "kernelspec": {
   "display_name": "Python 3 (ipykernel)",
   "language": "python",
   "name": "python3"
  },
  "language_info": {
   "codemirror_mode": {
    "name": "ipython",
    "version": 3
   },
   "file_extension": ".py",
   "mimetype": "text/x-python",
   "name": "python",
   "nbconvert_exporter": "python",
   "pygments_lexer": "ipython3",
   "version": "3.12.7"
  }
 },
 "nbformat": 4,
 "nbformat_minor": 5
}
