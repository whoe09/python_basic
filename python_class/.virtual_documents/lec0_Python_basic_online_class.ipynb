# <참고>
# 아래 코드는 jupyter의 code cell에서 print() 함수 호출 없이, 복수의 변수명만 입력해도 바로 출력창에
# 출력값들이 나오도록 해주는 설정입니다.
# 구글에 "multiple output in jupyter withtout print()" 로 검색하면 나오는 코드 중에 하나이니,
# 딱히 외우거나 하시지 않아도 됩니다.
from IPython.core.interactiveshell import InteractiveShell
InteractiveShell.ast_node_interactivity = "all"























a = 1


my_first_number = 1








print(1)


print(2)


target = 3


target + 10 - 12


target - 10 * 10
































a = 1


b = 2.3


c = -5





# int a = 1
# float b = 3.2

















a = 90
b = 30
c = 60


class_score = [90, 30, 60]
# class_score = list([90, 30, 60]) 리스트의 형태가 변형이 없다면 변수 = [] 안에 바로 element를 할당하는게 좋다.


class_score


type(class_score)


class_score = [1, 2, [1, 2]]


type(class_score)





class_score = [90, 30, 60]


class_score[1]


class_score[2]





class_score = [1,21,2,12,3,23,12,3,12,3,21,32,1,3,12,3]





class_score[-1]


class_score[-2]





class_score[0:1]


class_score[0:2]


type(class_score[1])


type(class_score[0:1])


class_score[:1]


class_score[1:]


class_score[:]


class_score[-2:]





[[1,2], [1,2,3]]


[
    [1, 2, 4],
    [1, 2, 3],
    [1, 3, [1, 2]]
]























a = (1, 2,)
type(a)


a[1]





a = [1, 2]


a[0] = 3


a


a = (1, 2)


a[0] = 3
































a = '안녕하세요'


a





a[0]


a[-1]


a[:-2]

















# 첫번째 방법
my_dict = {
    123: 456,
    "my_key": 1000
}


# 두번째 방법
my_dict = dict(my_value1=456, my_key=1000)
my_dict

















company_price_list = [["삼성전자", 10], ["현대차", 90]]


stock_dict = {
    "삼성전자": 10,
    "현대차": 90,
}


stock_dict["삼성전자"]


stock_dict["삼성전자"] = 20


stock_dict


stock_dict["하이닉스"] = 100
stock_dict


























a = {1, 2, 3, 1}


a


my_list = [1, 2, 3, 4, 4]
my_list


# list -> set
my_new_set = set(my_list)
my_new_set


# set -> list
my_new_list = list(my_new_set)
my_new_list
































a = True


type(a)


a = False


a








True and False # -> True


True and True


True and False


False and False





True or False


False or False





True and True or False





a = -1
c = a < 1
c


a <= 1


c = a == 3
c


a != 3


a > 1 or (a < 0 and a != 0)











# True는 숫자로 mapping 되면 1을 나타냅니다
int(True)


# False는 숫자로 mapping 되면 0을 나타냅니다
int(False)


True + 2


False - 1












































"""
def 함수명(인자1, 인자2, ...):   # argument or parameter = input
    구문1
    구문2
    구문3
    ...
    return 아웃풋      # return = output
"""


def f(wow_x):
    result = wow_x + 2
    return result


def wow_f(wow_x, wow_y):
    return wow_x - wow_y








f(2)


wow_f_result = wow_f(2, 3)
wow_f_result


wow_f(wow_x=2, wow_y=3)
wow_f(wow_y=3, wow_x=2)  # keyword arg를 이용해서 호출을 하는 경우, arg 순서는 무작위 순서로 전달 가능


dict(my_key=2, your_key=3)


wow_f(3, wow_y=2)  # 항상 positional argument가 먼저 나오고, keyword argument가 뒤에 나와야함


def wow_f(wow_x, wow_y):
    wow_z = 4
    return wow_x - wow_y + wow_z

print("3")
wow_f(2)    # 참고: 에러지점 밑으로는 코드가 실행되지 않음
print("1")





def wow_f(x, y):
    return x + y


wow_f(3, 2)


wow_f(x=3, y=2)


wow_f(2)


def wow_f(x, y, const=0.1):
    return (x + y) * const


wow_f(3, 5)


wow_f(3, 5, 0.2)














def f(x, y):
    return x + y


result = f(3, 4)


print("hi")

def my_func(x, y):
  return x + y

my_func(3, 4)




















#
# input O / output O
#
def calculate_sum(x, y):
    return x + y

result = calculate_sum(1, 2)


#
# input O / output X
#
def save_data_in_database(x):
    print(x, "를 데이터베이스에 저장하겠습니다")
    print("저장 완료되었습니다")
    
a = save_data_in_database(3)
a


print(a)


type(None)


#
# input X / output O
#
def get_pi():
    return 3.141592

pi = get_pi()

def get_current_time():
    import time
    this_is_current_time = time.time()   # 현재 시간을 '초'(second)로 반환하는 함수
    return this_is_current_time

current_time = get_current_time()

# 1. current_time을 초단위에서 실제 날짜, 시간 단위 형식의 자료형으로 변환한다(datetime 라이브러리를 사용해서)
# 2. current_time에서 '날짜'부분을 추출한다
# 3. if 해당 날짜 == 2020-xx-xx라면, 나한테 메일을 보낸다
# 4. 해당 날짜를 데이터베이스에 저장한다 등과 같은 처리 등을 계속 해나갈 수 있습니다
# ....


#
# input X / output X
#
def show_current_time():
    import time
    this_is_current_time = time.time()
    print(this_is_current_time, "입니다")
    
show_current_time()

# 이 경우 현재 time에 대해 출력만 한 것이라, 위에처럼 따로 해당 값을 통해 무언가를 할 수는 없습니다




















def get_my_lucky_number():
    return 7


def my_sum(x, y):
    return x + y


my_sum(get_my_lucky_number(), 5)
my_sum(7, 5)  # 실질적으로 이렇게 호출이 됨 


lucky_number = get_my_lucky_number()
my_sum(lucky_number, 5)




















# <pseudo code>
# - 네이버 메인 페이지에 접속한다
# - 실시간 검색어의 화면상에서의 위치를 파악한다
# - 실시간 검색어 top 5개만 가져온다
# - 화면에 출력한다





print("네이버 메인 페이지에 접속한다")
# print("로그인을 한다")
print("실시간 검색어의 화면상에서의 위치를 파악한다")
print("실시간 검색어 top 5개만 가져온다")
print("화면에 출력한다")
      
..
..
xxx작업을 한다 
..
      
print("네이버 메인 페이지에 접속한다")
# print("로그인을 한다")
print("실시간 검색어의 화면상에서의 위치를 파악한다")
print("실시간 검색어 top 5개만 가져온다")
print("화면에 출력한다")

..
..
xxx작업을 한다 
..

print("네이버 메인 페이지에 접속한다")
# print("로그인을 한다")
print("실시간 검색어의 화면상에서의 위치를 파악한다")
print("실시간 검색어 top 5개만 가져온다")
print("화면에 출력한다")





def crawl_naver_top_5():
    print("네이버 메인 페이지에 접속한다")
    print("로그인을 한다")
    print("실시간 검색어의 화면상에서의 위치를 파악한다")
    print("실시간 검색어 top 5개만 가져온다")
    print("화면에 출력한다")


crawl_naver_top_5()

..
..
..


crawl_naver_top_5()




















print("A라는 약을 먹는다")
print("B, C라는 약을 먹는다")
print("1분을 기다린다")
print("D라는 약을 먹는다")

..
..
run()
sleep()
..
..

print("A라는 약을 먹는다")
print("B, C라는 약을 먹는다")
print("1분을 기다린다")
print("D라는 약을 먹는다")






def take_pill():
    # "A를 반드시 첫번재 약으로써 먹고, B,C를 이어서 먹은 후, 1분을 기다린 후 다시 D약을 먹는다"라는 로직을 함수화
    # => 이렇게 되면, 이 약을 먹는 순서나, 중간에 몇분을 기다려야되는지 등에 대한 정보는 호출하는 단에서는 굳이 기억할 필요없이
    #    해당 함수를 호출만 하면 알아서 정의가 된대로 처리가 된다 
    print("A라는 약을 먹는다")
    print("B, C라는 약을 먹는다")
    print("1분을 기다린다")
    print("D라는 약을 먹는다")


take_pill()
run()
sleep()
take_pill()
































# class 클래스이름:
#    - 명사(attribute)를 초기화 하는 공간 
#    - 동사(behavior)를 정의하는 공간 

















def calculate_XXX()


class SoccerPlayer:

    def shoot(self):
        print("슛을 날립니다")
        print("슈웃~")
        
    def pass_the_ball(self):
        print("패스를 합니다")



player = SoccerPlayer()


player


player.shoot()
player.pass_the_ball()


player1 = SoccerPlayer()
player2 = SoccerPlayer()


player1.shoot()


player2.shoot()


def let_player1_shoot():
    print("player1이 슛을 하게 합니다")
    
def let_player2_shoot():
    print("player2이 슛을 하게 합니다")
    
let_player1_shoot()














class SoccerPlayer:
    def __init__(self):
        print("나 태어났어!")
    
    def shoot(self):
        print("슛을 때립니다")


player1 = SoccerPlayer()
# player1.shoot()


class SoccerPlayer:
    def __init__(self, height, weight):
        print("나 태어났어!")
        self.wow_height = height
        self.wow_weight = weight
    
    def shoot(self):
        print("슛을 때립니다")


player1 = SoccerPlayer(height=180, weight=50)
player2 = SoccerPlayer(height=160, weight=70)


player1.wow_height
player1.wow_weight


player2.wow_height
player2.wow_weight





class SoccerPlayer:
    def __init__(self, height, weight):
        print("나 태어났어!")
        self.wow_height = height
        self.wow_weight = weight
    
    def shoot(self):
        self.wow_height = self.wow_height + 1
        print("슛을 때립니다")


player1 = SoccerPlayer(180, 70)
player1.wow_height

player1.shoot()
player1.wow_height


player2 = SoccerPlayer(160, 60)
player2.wow_height

player2.shoot()
player2.wow_height

player1.wow_height   # player1의 상태는 그대로!


player2.shoot()
# => SoccerPlayer.shoot(player2) 내부적으로 이렇게 호출 된다고 생각하기


























class Human:
    def __init__(self, wow_weight, wow_height):
        self.weight = wow_weight
        self.height = wow_height
    
    def walk(self):
        print("걷습니다")


class Human(object):
    def __init__(self, wow_weight, wow_height):
        self.weight = wow_weight
        self.height = wow_height
    
    def walk(self):
        print("걷습니다")


h1 = Human(60, 170)
h1.walk()


class Athlete(Human):
            
    def workout(self):
        print("운동을 합니다")


h2 = Athlete(50, 180)
h2.walk()


class Athlete(Human):
    # 생성자 오버라이딩(overriding)
    def __init__(self, wow_weight, wow_height, fat_rate):
        super().__init__(wow_weight, wow_height)
        self.fat_rate = fat_rate
        
    def workout(self):
        print("운동을 합니다")


h3 = Athlete(50, 180, 11)
h3.walk()


class SoccerPlayer(Athlete):
    
    def workout(self):
        print("축구를 한다")


h4 = SoccerPlayer(50, 180, 11)
h4.walk()
h4.workout()














a = [1,2,3]
c = { }





a = [1,2,3] 
# a = list([1,2,3])
# a = ClassName()


a.append(3)


a


a = [4,3,2,1]


a.sort()


a


c = {"c": 123, "d": 1234}


c.keys()














class SoccerPlayer:
    
    def __init__(self, weight):
        self.weight = weight
        
    def walk(self):
        print("걷는다")


a = SoccerPlayer(10)
a.weight


# class SoccerPlayer:
    
#     def __init__(self, historical_weight_list):
#         self.historical_weight_list = historical_weight_list

# player1 = SoccerPlayer([100, 90, 95, 80])


class SoccerCoach:
    def __init__(self, num_career_year):
        self.num_career_year = num_career_year


class Team:
    def __init__(self, coach, player_list):
        self.coach = coach
        self.player_list = player_list


player1 = SoccerPlayer(70)
player2 = SoccerPlayer(80)

coach = SoccerCoach(10)

team = Team(coach=coach, player_list=[player1, player2])


team.coach.num_career_year





# 가독성이 좋게 호출하기
team = Team(
    coach=coach,
    player_list=[
        player1, 
        player2,
        player3,
        player4,
    ]
)


def some_function(a_list, a_dict):
    print(a_list)
    print(a_dict)

    # 가독성이 좋게 호출하기
some_function(
    a_list=[1,2,3,4,5,6,],
    a_dict={
        "a":[1,2,3,4,5],
        "b":[3,4,5,6,7],
    }
)




















team = Team(
    coach=coach,
    player_list=[
        SoccerPlayer(70), 
        SoccerPlayer(80),
    ]
)


team.player_list[0].walk()

# 아래와 같은 코드(readability 높은 코드)
# player_list = team.player_list
# player = player_list[0]
# player.walk()


Team(
    coach=coach,
    player_list=[
        SoccerPlayer(70), 
        SoccerPlayer(80),
    ]
).player_list[0].walk()


team.player_list[0].walk().walk()



























































a = 1


if a < 5:
    print("야호")
    print("야호!")
else:
    print("틀림")
    print("틀림2")


# boolean condtion 예시
title = "삼성전자 오늘 오를까요?"
a = "삼성전자2" in title
a


title = "삼성전자 오늘 오를까요?"

print(1)
if "삼성전자" in title:
    print("나한테 이메일을 보낸다")
else:
    print("무시한다")
print(3)


print(1)
print(2)
print(3)


#  vs

 
title = "삼성전자 오늘 오를까요?"
print(1)
if "삼성전자" in title:
    print("나한테 이메일을 보낸다")
else:
   print("무시한다")
print(3)


title = "삼성전자 오늘 오를까요?"
print(1)
if "삼성전자" in title:
    print("나한테 이메일을 보낸다")
print(3)














a = 7
if a > 10:
    print("a는 10보다 크다")
elif a > 5 and a <= 10:
    print("a는 5보다 크고 10보다 작다")
elif a > 1 and a <= 5:
    print("a는 1보다 크고 5보다 작다")
else:
    print("a는 1보다 작다")


























a = [1,2,4,5]
for tmp_var in a:
    print(tmp_var)
    print("룰루")


a = [1,2,4,5]
print("2")
for tmp_var in a:
    print(tmp_var)
    print("룰루")
print("1")








range(100)


for tmp_var in range(5):
    print(tmp_var)
    print("룰루")





for tmp_var in range(50, 55):
    print(tmp_var)
    print("룰루")





for tmp_var in range(50, 100, 2):
    print(tmp_var)


# 숙제: range()를 건드리지 않고 짝수 출력하기
for tmp_var in range(50, 100): 
    #
    #
    # 이 주석을 지우고, 코드로 채워주세요!
    #
    #
    print(tmp_var)























for i in range(10):
    if i == 5:
        break
    else:
        print(i)


for i in range(10):
    print(i)
    if i == 5:
        break


for i in range(10):
    print(i)
    if i == 5:
        break
print("ㅋㅋㅋ")














for i in range(10):
    if i == 5:
        continue
    print(i)


for i in range(10):
    if i < 5:
        continue
    print(i)


for i in range(10):
    print(i)
    if i < 5:
        continue
    elif i == 7:
        break




















my_list = []
for i in range(1, 11):
    my_list.append(i)


my_list


[wow_tmp for wow_tmp in range(1, 11)]


my_list = []
for i in range(1, 11):
    if i % 2 == 0:
        my_list.append(i)


my_list


[wow_tmp for wow_tmp in range(1, 11) if wow_tmp % 2 == 0]




















a = 0
while a < 5:
    print(a)
    a = a + 1


# 돌리기 전에 먼저 고민해보기!
a = 0
while a <= 5:
    a = a + 1
    print(a)
print("ㅋㅋ")


a = 0
while a < 5:
    print(a)
    if a == 3:
        break
    a = a + 1


a = 1
while a <= 5 or a > 2:
    a = a + 1
    if a == 3:
        continue
    
    if a == 10:
        break
    
    print(a)














for i in range(1, 11, 2):
    print(i)


i = 1
while i < 11:
    if i % 2 == 1:
        print(i)
    i = i + 1











while True:
    current_time = 현재시간을 받아온다
    if current_time >= 09:00am and current_time < 09:01am:
        날씨데이터를 웹에서 긁어서 나한테 이메일을 보내게 한다
        break
    else:
        time.sleep(10)
































pip install requests


conda install -c conda-forge scrapy


import scrapy


import requests


res = requests.get("https://naver.com")
res


res.text



















































































try:
    위험할 수 있는 구문1
    위험할 수 있는 구문2
    ...
except Exception클래스 이름:
    대응할 코드1
    대응할 코드2
    ...





10 / 0


a_list = [1,2,3,4]


a_list[100]


fore x in range(10):
    print(x)























print(1)
a = 10 / 0
print(a)


try:
    print(1)
    a = 10 / 0
    print(a)
except ZeroDivisionError:
    print("0으로 나누면 안됩니다.")

print("안녕")


try:
    print(1)
    a = 10 / 0
    print(a)
except ZeroDivisionError:
    print("0으로 나누면 안됩니다.")
except IndexError:
    print("Index error")

print("안녕")


try:
    print(1)
    a_list[100]
    print(a)
except ZeroDivisionError:
    print("0으로 나누면 안됩니다.")
except IndexError:
    print("Index error")

print("안녕")

















try:
    print(1)
    a_list[100]
    print(a)
except Exception:
    print("0으로 나누면 안됩니다.")

print("안녕")


try:
    print(1)
    a_list[100]
    print(a)
except ZeroDivisionError:
    print("hihi")
except IndexError:
    print("hihi")
except Exception:
    print("0으로 나누면 안됩니다.")

print("안녕")




















class Naver:
    def crawl(self):
        print("네이버 크롤링")
        
class Twitter:
    def crawl(self):
        a = 0/0    # 편의상 ZeroDivision 에러로 크롤링시 발생할 수 있는 에러를 대체했습니다.
        print("Twiiter 크롤링")
        
class Yahoo:
    def crawl(self):
        print("Yahoo 크롤링")


crawl_target_list = [
    Naver(),
    Twitter(),
    Yahoo()
]


result_list = []
for site in crawl_target_list: 
    result = site.crawl()
    result_list.append(result)

# result_list를 하나로 연결해서 이메일을 나한테 보낸다


result_list = []
for site in crawl_target_list:
    try:
        result = site.crawl()
    except Exception:
        print("나한테 xxx사이트 에러가 났다고 문자를 보낸다")
    else:
        result_list.append(result)

# result_list를 하나로 연결해서 이메일을 나한테 보내는 코드
# .. 
# ..



