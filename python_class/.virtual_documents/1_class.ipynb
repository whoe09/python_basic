print("Hello World")


5+3








5/3








# 주석을 설정합니다.
print("주석 설정")


dir


ls


ll


ls


clear


ls


pwd


print



